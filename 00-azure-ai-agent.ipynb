{
 "cells": [
  {
   "cell_type": "code",
   "execution_count": null,
   "id": "9237a30b",
   "metadata": {},
   "outputs": [],
   "source": [
    "import os\n",
    "from dotenv import load_dotenv\n",
    "from azure.ai.projects import AIProjectClient\n",
    "from azure.ai.agents.models import CodeInterpreterTool\n",
    "from azure.identity import DefaultAzureCredential"
   ]
  },
  {
   "cell_type": "code",
   "execution_count": 5,
   "id": "927fa67a",
   "metadata": {},
   "outputs": [],
   "source": [
    "load_dotenv(override=True)\n",
    "\n",
    "AIF_PROJECT_ENDPOINT = os.getenv(\"AIF_PROJECT_ENDPOINT\")\n",
    "MODEL_GPT4O = os.getenv(\"MODEL_GPT4O\")\n",
    "\n",
    "project_client = AIProjectClient(\n",
    "  endpoint=AIF_PROJECT_ENDPOINT,\n",
    "  credential=DefaultAzureCredential()\n",
    ") "
   ]
  },
  {
   "cell_type": "code",
   "execution_count": 6,
   "id": "117ea117",
   "metadata": {},
   "outputs": [
    {
     "data": {
      "text/plain": [
       "'https://ai-base-prj-01-20250718.services.ai.azure.com/api/projects/ai-base-prj-01'"
      ]
     },
     "execution_count": 6,
     "metadata": {},
     "output_type": "execute_result"
    }
   ],
   "source": [
    "AIF_PROJECT_ENDPOINT"
   ]
  },
  {
   "cell_type": "markdown",
   "id": "5f635a5d",
   "metadata": {},
   "source": [
    "### Define Agent"
   ]
  },
  {
   "cell_type": "code",
   "execution_count": 7,
   "id": "a1f54bee",
   "metadata": {},
   "outputs": [
    {
     "name": "stdout",
     "output_type": "stream",
     "text": [
      "Created agent with ID: asst_LzDQWo1wXUbrwsGWJMtk3whp\n"
     ]
    }
   ],
   "source": [
    "agent = project_client.agents.create_agent(\n",
    "  model=MODEL_GPT4O,\n",
    "  name=\"test-simple-agent\",\n",
    "  instructions=\"You are and AI Agent that only speaks using emojis. You will only respond using emojis.\",\n",
    ")\n",
    "\n",
    "print(f\"Created agent with ID: {agent.id}\")"
   ]
  },
  {
   "cell_type": "code",
   "execution_count": 8,
   "id": "6cf63b94",
   "metadata": {},
   "outputs": [
    {
     "name": "stdout",
     "output_type": "stream",
     "text": [
      "Created thread with ID: thread_qlPB8cXQU9gldQ3AZmX7vAGE\n"
     ]
    }
   ],
   "source": [
    "thread = project_client.agents.threads.create()\n",
    "print(f\"Created thread with ID: {thread.id}\")"
   ]
  },
  {
   "cell_type": "code",
   "execution_count": 9,
   "id": "2596e0ed",
   "metadata": {},
   "outputs": [],
   "source": [
    "def send_message(thread_id, message):\n",
    "  message = project_client.agents.messages.create(\n",
    "    thread_id=thread_id,\n",
    "    role=\"user\",\n",
    "    content=message\n",
    "  )"
   ]
  },
  {
   "cell_type": "code",
   "execution_count": null,
   "id": "29cfc5ff",
   "metadata": {},
   "outputs": [],
   "source": [
    "def run_agent(thread_id, agent_id):\n",
    "  response = project_client.agents.runs.create_and_process(\n",
    "    thread_id=thread_id,\n",
    "    agent_id=agent_id\n",
    "  )\n",
    "\n",
    "  print(f\"Status: {response.status}\")\n",
    "\n",
    "  if response.status == \"failed\":\n",
    "    raise Exception(f\"Agent run failed: {response.last_error}\")\n",
    "\n",
    "  return True"
   ]
  },
  {
   "cell_type": "code",
   "execution_count": 28,
   "id": "009b0c4b",
   "metadata": {},
   "outputs": [],
   "source": [
    "def get_messages(thread_id):\n",
    "  messages = project_client.agents.messages.list(\n",
    "    thread_id=thread_id\n",
    "  )\n",
    "\n",
    "  msg = []\n",
    "  for m in list(messages):\n",
    "    msg.append({\n",
    "      \"role\": m[\"role\"],\n",
    "      \"content\": m.content[0][\"text\"][\"value\"]\n",
    "    })\n",
    "\n",
    "  return msg"
   ]
  },
  {
   "cell_type": "markdown",
   "id": "d9f6bd7c",
   "metadata": {},
   "source": [
    "### Demo"
   ]
  },
  {
   "cell_type": "code",
   "execution_count": 36,
   "id": "b171e80f",
   "metadata": {},
   "outputs": [
    {
     "name": "stdout",
     "output_type": "stream",
     "text": [
      "Status: RunStatus.COMPLETED\n",
      "assistant: 👋😃\n",
      "------------------------\n",
      "\n",
      "\n"
     ]
    }
   ],
   "source": [
    "while True:\n",
    "  user_msg = input(\"USER >>> \")\n",
    "  \n",
    "  if user_msg.lower() == \"exit\":\n",
    "    break\n",
    "  \n",
    "  send_message(thread.id, user_msg)\n",
    "  run_agent(thread.id, agent.id)\n",
    "  messages = list(get_messages(thread.id))\n",
    "  \n",
    "  last_message = messages[0] if messages else None\n",
    "\n",
    "  #print(last_message)\n",
    "  print(f\"{last_message['role']}: {last_message['content']}\")\n",
    "\n",
    "  print(\"------------------------\\n\\n\")"
   ]
  },
  {
   "cell_type": "code",
   "execution_count": null,
   "id": "030750fc",
   "metadata": {},
   "outputs": [
    {
     "name": "stderr",
     "output_type": "stream",
     "text": [
      "c:\\dev\\azure-ai-agent\\.venv\\Lib\\site-packages\\tqdm\\auto.py:21: TqdmWarning: IProgress not found. Please update jupyter and ipywidgets. See https://ipywidgets.readthedocs.io/en/stable/user_install.html\n",
      "  from .autonotebook import tqdm as notebook_tqdm\n"
     ]
    },
    {
     "name": "stdout",
     "output_type": "stream",
     "text": [
      "* Running on local URL:  http://127.0.0.1:7864\n",
      "* To create a public link, set `share=True` in `launch()`.\n"
     ]
    },
    {
     "data": {
      "text/html": [
       "<div><iframe src=\"http://127.0.0.1:7864/\" width=\"100%\" height=\"600\" allow=\"autoplay; camera; microphone; clipboard-read; clipboard-write;\" frameborder=\"0\" allowfullscreen></iframe></div>"
      ],
      "text/plain": [
       "<IPython.core.display.HTML object>"
      ]
     },
     "metadata": {},
     "output_type": "display_data"
    },
    {
     "data": {
      "text/plain": []
     },
     "execution_count": 37,
     "metadata": {},
     "output_type": "execute_result"
    },
    {
     "name": "stdout",
     "output_type": "stream",
     "text": [
      "Status: RunStatus.COMPLETED\n",
      "Status: RunStatus.COMPLETED\n"
     ]
    }
   ],
   "source": [
    "import gradio as gr\n",
    "\n",
    "with gr.Blocks() as demo:\n",
    "\n",
    "  def get_ai_response(message, history):\n",
    "    send_message(thread.id, user_msg)\n",
    "    run_agent(thread.id, agent.id)\n",
    "    messages = list(get_messages(thread.id))\n",
    "    \n",
    "    return messages[0][\"content\"]\n",
    "  \n",
    "  gr.Markdown(\"## Azure AI Agent Test\")\n",
    "  gr.ChatInterface(\n",
    "    fn=get_ai_response,\n",
    "    type=\"messages\"\n",
    "  )\n",
    "\n",
    "demo.launch(height=600, inline=True)"
   ]
  },
  {
   "cell_type": "markdown",
   "id": "c50d82cd",
   "metadata": {},
   "source": [
    "### Clean up"
   ]
  },
  {
   "cell_type": "code",
   "execution_count": 15,
   "id": "9ab3a810",
   "metadata": {},
   "outputs": [
    {
     "name": "stdout",
     "output_type": "stream",
     "text": [
      "Deleted agent with ID: asst_iYKgPRUBzAvSlHhQANGuoUVv\n"
     ]
    }
   ],
   "source": [
    "project_client.agents.delete_agent(agent.id)\n",
    "print(f\"Deleted agent with ID: {agent.id}\")"
   ]
  }
 ],
 "metadata": {
  "kernelspec": {
   "display_name": ".venv",
   "language": "python",
   "name": "python3"
  },
  "language_info": {
   "codemirror_mode": {
    "name": "ipython",
    "version": 3
   },
   "file_extension": ".py",
   "mimetype": "text/x-python",
   "name": "python",
   "nbconvert_exporter": "python",
   "pygments_lexer": "ipython3",
   "version": "3.11.4"
  }
 },
 "nbformat": 4,
 "nbformat_minor": 5
}
