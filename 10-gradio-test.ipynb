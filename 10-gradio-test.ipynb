{
 "cells": [
  {
   "cell_type": "code",
   "execution_count": 1,
   "id": "fb2ee5b7",
   "metadata": {},
   "outputs": [
    {
     "data": {
      "text/html": [
       "\n",
       "<style>\n",
       ".output_wrapper, .output {\n",
       "    height: auto !important;\n",
       "    max-height: none !important;\n",
       "}\n",
       ".output_scroll {\n",
       "    box-shadow: none !important;\n",
       "    webkit-box-shadow: none !important;\n",
       "    height: auto !important;\n",
       "    max-height: none !important;\n",
       "    overflow-y: visible !important;\n",
       "}\n",
       "</style>\n"
      ],
      "text/plain": [
       "<IPython.core.display.HTML object>"
      ]
     },
     "metadata": {},
     "output_type": "display_data"
    }
   ],
   "source": [
    "# To modify the output display\n",
    "from IPython.display import display, HTML\n",
    "\n",
    "display(HTML('''\n",
    "<style>\n",
    ".output_wrapper, .output {\n",
    "    height: auto !important;\n",
    "    max-height: none !important;\n",
    "}\n",
    ".output_scroll {\n",
    "    box-shadow: none !important;\n",
    "    webkit-box-shadow: none !important;\n",
    "    height: auto !important;\n",
    "    max-height: none !important;\n",
    "    overflow-y: visible !important;\n",
    "}\n",
    "</style>\n",
    "'''))"
   ]
  },
  {
   "cell_type": "code",
   "execution_count": 1,
   "id": "8a1d3bf0",
   "metadata": {},
   "outputs": [
    {
     "name": "stderr",
     "output_type": "stream",
     "text": [
      "c:\\dev\\azure-ai-agent\\.venv\\Lib\\site-packages\\tqdm\\auto.py:21: TqdmWarning: IProgress not found. Please update jupyter and ipywidgets. See https://ipywidgets.readthedocs.io/en/stable/user_install.html\n",
      "  from .autonotebook import tqdm as notebook_tqdm\n"
     ]
    }
   ],
   "source": [
    "%load_ext gradio"
   ]
  },
  {
   "cell_type": "code",
   "execution_count": null,
   "id": "2a3b6b53",
   "metadata": {},
   "outputs": [
    {
     "name": "stdout",
     "output_type": "stream",
     "text": [
      "* Running on local URL:  http://127.0.0.1:7861\n",
      "* To create a public link, set `share=True` in `launch()`.\n"
     ]
    },
    {
     "data": {
      "text/html": [
       "<div><iframe src=\"http://127.0.0.1:7861/\" width=\"100%\" height=\"800\" allow=\"autoplay; camera; microphone; clipboard-read; clipboard-write;\" frameborder=\"0\" allowfullscreen></iframe></div>"
      ],
      "text/plain": [
       "<IPython.core.display.HTML object>"
      ]
     },
     "metadata": {},
     "output_type": "display_data"
    },
    {
     "data": {
      "text/html": [
       "<div><iframe src=\"http://127.0.0.1:7860/\" width=\"100%\" height=\"500\" allow=\"autoplay; camera; microphone; clipboard-read; clipboard-write;\" frameborder=\"0\" allowfullscreen></iframe></div>"
      ],
      "text/plain": [
       "<IPython.core.display.HTML object>"
      ]
     },
     "execution_count": 7,
     "metadata": {},
     "output_type": "execute_result"
    }
   ],
   "source": [
    "#%%blocks\n",
    "\n",
    "import gradio as gr\n",
    "\n",
    "with gr.Blocks() as demo:\n",
    "\n",
    "  def random_response(message, history):\n",
    "    import random\n",
    "    \n",
    "    return random.choice([\n",
    "      \"Hello! How can I assist you today?\",\n",
    "      \"Hi there! What can I do for you?\",\n",
    "      \"Greetings! How may I help?\",\n",
    "      \"Hey! What do you need assistance with?\",\n",
    "      \"Hi! I'm here to help, what do you need?\"\n",
    "    ])\n",
    "  \n",
    "  gr.Markdown(\"## Azure AI Agent Test\")\n",
    "  gr.ChatInterface(\n",
    "    fn=random_response,\n",
    "    type=\"messages\"\n",
    "  )\n",
    "\n",
    "demo.launch(height=800, inline=True)"
   ]
  },
  {
   "cell_type": "code",
   "execution_count": null,
   "id": "fc2eb6d3",
   "metadata": {},
   "outputs": [],
   "source": []
  }
 ],
 "metadata": {
  "kernelspec": {
   "display_name": ".venv",
   "language": "python",
   "name": "python3"
  },
  "language_info": {
   "codemirror_mode": {
    "name": "ipython",
    "version": 3
   },
   "file_extension": ".py",
   "mimetype": "text/x-python",
   "name": "python",
   "nbconvert_exporter": "python",
   "pygments_lexer": "ipython3",
   "version": "3.11.4"
  }
 },
 "nbformat": 4,
 "nbformat_minor": 5
}
